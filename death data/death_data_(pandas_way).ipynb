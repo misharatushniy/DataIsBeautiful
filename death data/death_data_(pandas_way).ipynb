{
 "cells": [
  {
   "cell_type": "markdown",
   "id": "1234664d",
   "metadata": {},
   "source": [
    "inttoduction...."
   ]
  },
  {
   "cell_type": "markdown",
   "id": "426dce2a",
   "metadata": {},
   "source": [
    "navifation......"
   ]
  },
  {
   "cell_type": "markdown",
   "id": "db989b34",
   "metadata": {},
   "source": [
    "We need to collect data on deceased people. The data must include: gender, date of birth, date of death. Additionally, for comparisons between regions, we need to add the place of burial. \n",
    "To do this, we will use ..."
   ]
  },
  {
   "cell_type": "code",
   "execution_count": 1,
   "id": "6eb78414",
   "metadata": {},
   "outputs": [],
   "source": [
    "from bs4 import BeautifulSoup\n",
    "import requests\n",
    "import webbrowser\n",
    "import time"
   ]
  },
  {
   "cell_type": "code",
   "execution_count": null,
   "id": "99a1f206",
   "metadata": {},
   "outputs": [],
   "source": [
    "# Створимо функцію, яка видалить все зайве зі строки та залишить лише ПІП, дату народження, дату смерті та місце захоронення.\n",
    "def clean_data(s):\n",
    "    end_name = s.find('ID:')\n",
    "    start_date = s.find('Годы жизни:')\n",
    "    end_date = s.find('Место захоронения:')\n",
    "    sub_str = s[start_date + 12 :end_date]\n",
    "    dates = sub_str.split('-')\n",
    "    name = s[:end_name]\n",
    "    csv_string = name + ',' + dates[0].strip()[:-3] + ',' + dates[1].strip()[:-3]\n",
    "    return csv_string"
   ]
  },
  {
   "cell_type": "code",
   "execution_count": 7,
   "id": "e14b00f1",
   "metadata": {},
   "outputs": [
    {
     "name": "stdout",
     "output_type": "stream",
     "text": [
      "Cечко Надежда ГригорьевнаID: 1306582Годы жизни: 14 октября 1912 г. - 24 апреля 2001 г.Место захоронения: БеларусьАдрес / координаты: посмотреть\n",
      "Cпиридович Константин АлександровичID: 1302505Годы жизни: 20 мая 1934 г. - 3 мая 1991 г.Место захоронения: БеларусьАдрес / координаты: посмотреть\n",
      "Cытько Bepa ИосифовнаID: 1303815Годы жизни: 15 ноября 1924 г. - 13 июня 1993 г.Место захоронения: БеларусьАдрес / координаты: посмотреть\n",
      "Cычугова Татьяна НиколаевнаID: 1306031Годы жизни: 29 сентября 1962 г. - 27 декабря 2001 г.Место захоронения: БеларусьАдрес / координаты: посмотреть\n",
      "Esnановская Светлана АлександровнаID: 1307394Годы жизни: 20 ноября 1963 г. - 15 августа 2011 г.Место захоронения: БеларусьАдрес / координаты: посмотреть\n",
      "Eвсеенко Евфросиния ТитовнаID: 1308763Годы жизни: 15 октября 1918 г. - 1 июня 2001 г.Место захоронения: БеларусьАдрес / координаты: посмотреть\n",
      "Eвтеев Феодосий СавельевичID: 1301225Годы жизни: 22 января 1921 г. - 1 февраля 1998 г.Место захоронения: БеларусьАдрес / координаты: посмотреть\n",
      "Eвтух Георгий МихайловичID: 1296816Годы жизни: 22 ноября 1952 г. - 2 января 2004 г.Место захоронения: БеларусьАдрес / координаты: посмотреть\n",
      "Eмельянова Евгения ФедоровнаID: 1308446Годы жизни: 7 марта 1925 г. - 3 апреля 2008 г.Место захоронения: БеларусьАдрес / координаты: посмотреть\n",
      "Eрмакович Николай ИвановичID: 1307788Годы жизни: 20 октября 1953 г. - 31 июля 1996 г.Место захоронения: БеларусьАдрес / координаты: посмотреть\n",
      "Eрофеев А НID: 1308189Дата смерти: 4 августа 1995 г.Место захоронения: БеларусьАдрес / координаты: посмотреть\n",
      "Eфременко Николай AлексеевичID: 1302926Дата смерти: 4 июля 1999 г.Место захоронения: БеларусьАдрес / координаты: посмотреть\n",
      "Haсенник Анна ИосифовнаID: 1307806Годы жизни: 17 апреля 1906 г. - 25 августа 1996 г.Место захоронения: БеларусьАдрес / координаты: посмотреть\n",
      "Hexaeв Федор ГригорьевичID: 1301349Годы жизни: 25 ноября 1928 г. - 21 января 1998 г.Место захоронения: БеларусьАдрес / координаты: посмотреть\n",
      "Hexaeва Белла МарковнаID: 1294784Годы жизни: 17 июня 1913 г. - 11 августа 1991 г.Место захоронения: БеларусьАдрес / координаты: посмотреть\n",
      "Heхай Александр АлександровичID: 1308435Годы жизни: 21 марта 1949 г. - 5 марта 2001 г.Место захоронения: БеларусьАдрес / координаты: посмотреть\n",
      "Hауменко Валерий Васильевич ID: 1310428Годы жизни: 16 марта 1951 г. - 27 ноября 1994 г.Место захоронения: БеларусьАдрес / координаты: посмотреть\n",
      "Hовик Poман АнтоновичID: 1287241Годы жизни: 1 января 1930 г. - 4 января 1989 г.Место захоронения: БеларусьАдрес / координаты: посмотреть\n",
      "Kapандей Евгения ЛаврентьевнаID: 1310594Годы жизни: 20 ноября 1923 г. - 21 мая 1995 г.Место захоронения: БеларусьАдрес / координаты: посмотреть\n",
      "Kapачун Зинаида ВладимировнаID: 1303044Годы жизни: 10 октября 1928 г. - 10 августа 2009 г.Место захоронения: БеларусьАдрес / координаты: посмотреть\n"
     ]
    }
   ],
   "source": [
    "# створимо лічильник сторінок та ссилку на першу сторінку кладовища. Максимальна кількість сторінок на даному кладовищі 2088\n",
    "page_number = 1 \n",
    "max_page = 2088\n",
    "url = 'https://pomnim.online/cemetery/2099/page/3'\n",
    "\n",
    "# парсимо всю інформацію зі сторінки та відфільтруємо лише \"div\" який містить класс\"burial-teaser__content flex-grow-1\"\n",
    "html_text = requests.get(url).text\n",
    "soup = BeautifulSoup(html_text, 'html.parser')\n",
    "page_data = soup.find_all(\"div\", class_=\"burial-teaser__content flex-grow-1\")\n",
    "page_number += 1\n",
    "\n",
    "# добавимо дані зі строки в csv. Для цього скористаємось функією яку ми створили вище\n",
    "for i in page_data:\n",
    "    print((i.text))"
   ]
  },
  {
   "cell_type": "code",
   "execution_count": 8,
   "id": "787bed68",
   "metadata": {},
   "outputs": [
    {
     "name": "stdout",
     "output_type": "stream",
     "text": [
      "Cечко Надежда Григорьевна,14 октября 1912,24 апреля 2001\n",
      "Cпиридович Константин Александрович,20 мая 1934,3 мая 1991\n",
      "Cытько Bepa Иосифовна,15 ноября 1924,13 июня 1993\n",
      "Cычугова Татьяна Николаевна,29 сентября 1962,27 декабря 2001\n",
      "Esnановская Светлана Александровна,20 ноября 1963,15 августа 2011\n",
      "Eвсеенко Евфросиния Титовна,15 октября 1918,1 июня 2001\n",
      "Eвтеев Феодосий Савельевич,22 января 1921,1 февраля 1998\n",
      "Eвтух Георгий Михайлович,22 ноября 1952,2 января 2004\n",
      "Eмельянова Евгения Федоровна,7 марта 1925,3 апреля 2008\n",
      "Eрмакович Николай Иванович,20 октября 1953,31 июля 1996\n"
     ]
    },
    {
     "ename": "IndexError",
     "evalue": "list index out of range",
     "output_type": "error",
     "traceback": [
      "\u001b[1;31m---------------------------------------------------------------------------\u001b[0m",
      "\u001b[1;31mIndexError\u001b[0m                                Traceback (most recent call last)",
      "Cell \u001b[1;32mIn[8], line 2\u001b[0m\n\u001b[0;32m      1\u001b[0m \u001b[38;5;28;01mfor\u001b[39;00m i \u001b[38;5;129;01min\u001b[39;00m page_data:\n\u001b[1;32m----> 2\u001b[0m     \u001b[38;5;28mprint\u001b[39m(\u001b[43mclean_data\u001b[49m\u001b[43m(\u001b[49m\u001b[43mi\u001b[49m\u001b[38;5;241;43m.\u001b[39;49m\u001b[43mtext\u001b[49m\u001b[43m)\u001b[49m)\n",
      "Cell \u001b[1;32mIn[7], line 9\u001b[0m, in \u001b[0;36mclean_data\u001b[1;34m(s)\u001b[0m\n\u001b[0;32m      7\u001b[0m dates \u001b[38;5;241m=\u001b[39m sub_str\u001b[38;5;241m.\u001b[39msplit(\u001b[38;5;124m'\u001b[39m\u001b[38;5;124m-\u001b[39m\u001b[38;5;124m'\u001b[39m)\n\u001b[0;32m      8\u001b[0m name \u001b[38;5;241m=\u001b[39m s[:end_name]\n\u001b[1;32m----> 9\u001b[0m csv_string \u001b[38;5;241m=\u001b[39m name \u001b[38;5;241m+\u001b[39m \u001b[38;5;124m'\u001b[39m\u001b[38;5;124m,\u001b[39m\u001b[38;5;124m'\u001b[39m \u001b[38;5;241m+\u001b[39m dates[\u001b[38;5;241m0\u001b[39m]\u001b[38;5;241m.\u001b[39mstrip()[:\u001b[38;5;241m-\u001b[39m\u001b[38;5;241m3\u001b[39m] \u001b[38;5;241m+\u001b[39m \u001b[38;5;124m'\u001b[39m\u001b[38;5;124m,\u001b[39m\u001b[38;5;124m'\u001b[39m \u001b[38;5;241m+\u001b[39m \u001b[43mdates\u001b[49m\u001b[43m[\u001b[49m\u001b[38;5;241;43m1\u001b[39;49m\u001b[43m]\u001b[49m\u001b[38;5;241m.\u001b[39mstrip()[:\u001b[38;5;241m-\u001b[39m\u001b[38;5;241m3\u001b[39m]\n\u001b[0;32m     10\u001b[0m \u001b[38;5;28;01mreturn\u001b[39;00m csv_string\n",
      "\u001b[1;31mIndexError\u001b[0m: list index out of range"
     ]
    }
   ],
   "source": [
    "for i in page_data:\n",
    "    print(clean_data(i.text))"
   ]
  },
  {
   "cell_type": "code",
   "execution_count": 6,
   "id": "ae38d3a0",
   "metadata": {},
   "outputs": [],
   "source": [
    "counter = 4\n",
    "while counter != 25:\n",
    "    url = 'https://pomnim.online/cemetery/2099/page/'+str(counter)\n",
    "    webbrowser.register('chrome', None, webbrowser.BackgroundBrowser(\"C:\\Program Files\\Google\\Chrome\\Application\\chrome.exe\"))\n",
    "    webbrowser.get('chrome').open(url)\n",
    "    counter += 1\n",
    "    time.sleep(25)"
   ]
  },
  {
   "cell_type": "code",
   "execution_count": null,
   "id": "ee34c846",
   "metadata": {},
   "outputs": [],
   "source": []
  },
  {
   "cell_type": "code",
   "execution_count": null,
   "id": "96dc935a",
   "metadata": {},
   "outputs": [],
   "source": []
  },
  {
   "cell_type": "code",
   "execution_count": null,
   "id": "cc2fb9f3",
   "metadata": {},
   "outputs": [],
   "source": []
  }
 ],
 "metadata": {
  "kernelspec": {
   "display_name": "Python 3 (ipykernel)",
   "language": "python",
   "name": "python3"
  },
  "language_info": {
   "codemirror_mode": {
    "name": "ipython",
    "version": 3
   },
   "file_extension": ".py",
   "mimetype": "text/x-python",
   "name": "python",
   "nbconvert_exporter": "python",
   "pygments_lexer": "ipython3",
   "version": "3.10.9"
  }
 },
 "nbformat": 4,
 "nbformat_minor": 5
}
